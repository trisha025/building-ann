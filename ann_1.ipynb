{
  "nbformat": 4,
  "nbformat_minor": 0,
  "metadata": {
    "colab": {
      "name": "ann_1.ipynb",
      "version": "0.3.2",
      "provenance": [],
      "collapsed_sections": [],
      "include_colab_link": true
    },
    "kernelspec": {
      "name": "python3",
      "display_name": "Python 3"
    },
    "accelerator": "GPU"
  },
  "cells": [
    {
      "cell_type": "markdown",
      "metadata": {
        "id": "view-in-github",
        "colab_type": "text"
      },
      "source": [
        "<a href=\"https://colab.research.google.com/github/trisha025/deep-learning/blob/master/ann_1.ipynb\" target=\"_parent\"><img src=\"https://colab.research.google.com/assets/colab-badge.svg\" alt=\"Open In Colab\"/></a>"
      ]
    },
    {
      "metadata": {
        "id": "49cfzXIk4WI5",
        "colab_type": "code",
        "outputId": "9f1ac6ff-7dba-4330-b82f-3b31c027638b",
        "colab": {
          "base_uri": "https://localhost:8080/",
          "height": 306
        }
      },
      "cell_type": "code",
      "source": [
        "#installing libraries #TensorFlow\n",
        "!pip install tensorflow"
      ],
      "execution_count": 52,
      "outputs": [
        {
          "output_type": "stream",
          "text": [
            "Requirement already satisfied: tensorflow in /usr/local/lib/python3.6/dist-packages (1.12.0)\n",
            "Requirement already satisfied: keras-preprocessing>=1.0.5 in /usr/local/lib/python3.6/dist-packages (from tensorflow) (1.0.5)\n",
            "Requirement already satisfied: keras-applications>=1.0.6 in /usr/local/lib/python3.6/dist-packages (from tensorflow) (1.0.6)\n",
            "Requirement already satisfied: termcolor>=1.1.0 in /usr/local/lib/python3.6/dist-packages (from tensorflow) (1.1.0)\n",
            "Requirement already satisfied: absl-py>=0.1.6 in /usr/local/lib/python3.6/dist-packages (from tensorflow) (0.6.1)\n",
            "Requirement already satisfied: protobuf>=3.6.1 in /usr/local/lib/python3.6/dist-packages (from tensorflow) (3.6.1)\n",
            "Requirement already satisfied: six>=1.10.0 in /usr/local/lib/python3.6/dist-packages (from tensorflow) (1.11.0)\n",
            "Requirement already satisfied: numpy>=1.13.3 in /usr/local/lib/python3.6/dist-packages (from tensorflow) (1.14.6)\n",
            "Requirement already satisfied: wheel>=0.26 in /usr/local/lib/python3.6/dist-packages (from tensorflow) (0.32.3)\n",
            "Requirement already satisfied: tensorboard<1.13.0,>=1.12.0 in /usr/local/lib/python3.6/dist-packages (from tensorflow) (1.12.1)\n",
            "Requirement already satisfied: astor>=0.6.0 in /usr/local/lib/python3.6/dist-packages (from tensorflow) (0.7.1)\n",
            "Requirement already satisfied: gast>=0.2.0 in /usr/local/lib/python3.6/dist-packages (from tensorflow) (0.2.0)\n",
            "Requirement already satisfied: grpcio>=1.8.6 in /usr/local/lib/python3.6/dist-packages (from tensorflow) (1.15.0)\n",
            "Requirement already satisfied: h5py in /usr/local/lib/python3.6/dist-packages (from keras-applications>=1.0.6->tensorflow) (2.8.0)\n",
            "Requirement already satisfied: setuptools in /usr/local/lib/python3.6/dist-packages (from protobuf>=3.6.1->tensorflow) (40.6.3)\n",
            "Requirement already satisfied: werkzeug>=0.11.10 in /usr/local/lib/python3.6/dist-packages (from tensorboard<1.13.0,>=1.12.0->tensorflow) (0.14.1)\n",
            "Requirement already satisfied: markdown>=2.6.8 in /usr/local/lib/python3.6/dist-packages (from tensorboard<1.13.0,>=1.12.0->tensorflow) (3.0.1)\n"
          ],
          "name": "stdout"
        }
      ]
    },
    {
      "metadata": {
        "id": "EKwasd3R4kvf",
        "colab_type": "code",
        "outputId": "1853ad02-6897-4bd1-bbec-b5160d33dc32",
        "colab": {
          "base_uri": "https://localhost:8080/",
          "height": 85
        }
      },
      "cell_type": "code",
      "source": [
        "#Theano\n",
        "!pip install theano"
      ],
      "execution_count": 53,
      "outputs": [
        {
          "output_type": "stream",
          "text": [
            "Requirement already satisfied: theano in /usr/local/lib/python3.6/dist-packages (1.0.3)\n",
            "Requirement already satisfied: numpy>=1.9.1 in /usr/local/lib/python3.6/dist-packages (from theano) (1.14.6)\n",
            "Requirement already satisfied: scipy>=0.14 in /usr/local/lib/python3.6/dist-packages (from theano) (1.1.0)\n",
            "Requirement already satisfied: six>=1.9.0 in /usr/local/lib/python3.6/dist-packages (from theano) (1.11.0)\n"
          ],
          "name": "stdout"
        }
      ]
    },
    {
      "metadata": {
        "id": "fonzAP-84mCi",
        "colab_type": "code",
        "outputId": "c007ea49-401e-4949-ae28-3d315c8b25b0",
        "colab": {
          "base_uri": "https://localhost:8080/",
          "height": 153
        }
      },
      "cell_type": "code",
      "source": [
        "#Keras\n",
        "!pip install keras"
      ],
      "execution_count": 54,
      "outputs": [
        {
          "output_type": "stream",
          "text": [
            "Requirement already satisfied: keras in /usr/local/lib/python3.6/dist-packages (2.2.4)\n",
            "Requirement already satisfied: scipy>=0.14 in /usr/local/lib/python3.6/dist-packages (from keras) (1.1.0)\n",
            "Requirement already satisfied: pyyaml in /usr/local/lib/python3.6/dist-packages (from keras) (3.13)\n",
            "Requirement already satisfied: numpy>=1.9.1 in /usr/local/lib/python3.6/dist-packages (from keras) (1.14.6)\n",
            "Requirement already satisfied: six>=1.9.0 in /usr/local/lib/python3.6/dist-packages (from keras) (1.11.0)\n",
            "Requirement already satisfied: keras-applications>=1.0.6 in /usr/local/lib/python3.6/dist-packages (from keras) (1.0.6)\n",
            "Requirement already satisfied: h5py in /usr/local/lib/python3.6/dist-packages (from keras) (2.8.0)\n",
            "Requirement already satisfied: keras-preprocessing>=1.0.5 in /usr/local/lib/python3.6/dist-packages (from keras) (1.0.5)\n"
          ],
          "name": "stdout"
        }
      ]
    },
    {
      "metadata": {
        "id": "cE3whqin4mIB",
        "colab_type": "code",
        "outputId": "846f9c88-11a3-427c-d2d0-1740a4b8b44d",
        "colab": {
          "resources": {
            "http://localhost:8080/nbextensions/google.colab/files.js": {
              "data": "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",
              "ok": true,
              "headers": [
                [
                  "content-type",
                  "application/javascript"
                ]
              ],
              "status": 200,
              "status_text": ""
            }
          },
          "base_uri": "https://localhost:8080/",
          "height": 89
        }
      },
      "cell_type": "code",
      "source": [
        "#uploading the dataset (CSV file) #snippet available in Google Colab\n",
        "from google.colab import files\n",
        "\n",
        "uploaded = files.upload()\n",
        "\n",
        "for fn in uploaded.keys():\n",
        "  print('User uploaded file \"{name}\" with length {length} bytes'.format(\n",
        "      name=fn, length=len(uploaded[fn])))"
      ],
      "execution_count": 55,
      "outputs": [
        {
          "output_type": "display_data",
          "data": {
            "text/html": [
              "\n",
              "     <input type=\"file\" id=\"files-d1228b0f-833d-4743-ae90-00ab51ce1665\" name=\"files[]\" multiple disabled />\n",
              "     <output id=\"result-d1228b0f-833d-4743-ae90-00ab51ce1665\">\n",
              "      Upload widget is only available when the cell has been executed in the\n",
              "      current browser session. Please rerun this cell to enable.\n",
              "      </output>\n",
              "      <script src=\"/nbextensions/google.colab/files.js\"></script> "
            ],
            "text/plain": [
              "<IPython.core.display.HTML object>"
            ]
          },
          "metadata": {
            "tags": []
          }
        },
        {
          "output_type": "stream",
          "text": [
            "Saving Churn_Modelling.csv to Churn_Modelling (1).csv\n",
            "User uploaded file \"Churn_Modelling.csv\" with length 684858 bytes\n"
          ],
          "name": "stdout"
        }
      ]
    },
    {
      "metadata": {
        "id": "BPF_lLSO4mGR",
        "colab_type": "code",
        "colab": {}
      },
      "cell_type": "code",
      "source": [
        "#importing libraries\n",
        "import numpy as np\n",
        "import matplotlib.pyplot as plt\n",
        "import pandas as pd"
      ],
      "execution_count": 0,
      "outputs": []
    },
    {
      "metadata": {
        "id": "_fW1qApy7eax",
        "colab_type": "code",
        "colab": {}
      },
      "cell_type": "code",
      "source": [
        "#uploadig dataset into variable\n",
        "dataset = pd.read_csv('Churn_Modelling.csv')\n",
        "X = dataset.iloc[:, 3:13].values\n",
        "y = dataset.iloc[:, 13].values"
      ],
      "execution_count": 0,
      "outputs": []
    },
    {
      "metadata": {
        "id": "ZbXU_L5A_ZM2",
        "colab_type": "code",
        "colab": {}
      },
      "cell_type": "code",
      "source": [
        "#encoding the categorical data\n",
        "from sklearn.preprocessing import LabelEncoder, OneHotEncoder\n",
        "labelencoder_X_1 = LabelEncoder()\n",
        "X[:, 1] = labelencoder_X_1.fit_transform(X[:, 1])"
      ],
      "execution_count": 0,
      "outputs": []
    },
    {
      "metadata": {
        "id": "JwQmsBOJ_h6Y",
        "colab_type": "code",
        "colab": {}
      },
      "cell_type": "code",
      "source": [
        "labelencoder_X_2 = LabelEncoder()\n",
        "X[:, 2] = labelencoder_X_2.fit_transform(X[:, 2])"
      ],
      "execution_count": 0,
      "outputs": []
    },
    {
      "metadata": {
        "id": "NkfirsQe7eor",
        "colab_type": "code",
        "outputId": "b3227564-eef1-4ff4-a404-132f099b79cc",
        "colab": {
          "base_uri": "https://localhost:8080/",
          "height": 139
        }
      },
      "cell_type": "code",
      "source": [
        "onehotencoder = OneHotEncoder(categorical_features = [1])\n",
        "X = onehotencoder.fit_transform(X).toarray()"
      ],
      "execution_count": 60,
      "outputs": [
        {
          "output_type": "stream",
          "text": [
            "/usr/local/lib/python3.6/dist-packages/sklearn/preprocessing/_encoders.py:368: FutureWarning: The handling of integer data will change in version 0.22. Currently, the categories are determined based on the range [0, max(values)], while in the future they will be determined based on the unique values.\n",
            "If you want the future behaviour and silence this warning, you can specify \"categories='auto'\".\n",
            "In case you used a LabelEncoder before this OneHotEncoder to convert the categories to integers, then you can now use the OneHotEncoder directly.\n",
            "  warnings.warn(msg, FutureWarning)\n",
            "/usr/local/lib/python3.6/dist-packages/sklearn/preprocessing/_encoders.py:390: DeprecationWarning: The 'categorical_features' keyword is deprecated in version 0.20 and will be removed in 0.22. You can use the ColumnTransformer instead.\n",
            "  \"use the ColumnTransformer instead.\", DeprecationWarning)\n"
          ],
          "name": "stderr"
        }
      ]
    },
    {
      "metadata": {
        "id": "ozDm1b4j7euB",
        "colab_type": "code",
        "outputId": "c907bc22-e18e-4a6d-9af5-27676be9e938",
        "colab": {
          "base_uri": "https://localhost:8080/",
          "height": 238
        }
      },
      "cell_type": "code",
      "source": [
        "X=X[:,1:]\n",
        "print(X)"
      ],
      "execution_count": 61,
      "outputs": [
        {
          "output_type": "stream",
          "text": [
            "[[0.0000000e+00 0.0000000e+00 6.1900000e+02 ... 1.0000000e+00\n",
            "  1.0000000e+00 1.0134888e+05]\n",
            " [0.0000000e+00 1.0000000e+00 6.0800000e+02 ... 0.0000000e+00\n",
            "  1.0000000e+00 1.1254258e+05]\n",
            " [0.0000000e+00 0.0000000e+00 5.0200000e+02 ... 1.0000000e+00\n",
            "  0.0000000e+00 1.1393157e+05]\n",
            " ...\n",
            " [0.0000000e+00 0.0000000e+00 7.0900000e+02 ... 0.0000000e+00\n",
            "  1.0000000e+00 4.2085580e+04]\n",
            " [1.0000000e+00 0.0000000e+00 7.7200000e+02 ... 1.0000000e+00\n",
            "  0.0000000e+00 9.2888520e+04]\n",
            " [0.0000000e+00 0.0000000e+00 7.9200000e+02 ... 1.0000000e+00\n",
            "  0.0000000e+00 3.8190780e+04]]\n"
          ],
          "name": "stdout"
        }
      ]
    },
    {
      "metadata": {
        "id": "CHRphQ26mEnp",
        "colab_type": "code",
        "colab": {}
      },
      "cell_type": "code",
      "source": [
        "#splitting data into training set and test set\n",
        "from sklearn.model_selection import train_test_split\n",
        "X_train, X_test, y_train, y_test = train_test_split(X, y, test_size = 0.20, random_state = 0)"
      ],
      "execution_count": 0,
      "outputs": []
    },
    {
      "metadata": {
        "id": "Q8DpTwCAp7c-",
        "colab_type": "code",
        "colab": {}
      },
      "cell_type": "code",
      "source": [
        "#importing keras and its models\n",
        "import keras\n",
        "from keras.models import Sequential\n",
        "from keras.layers import Dense, Activation"
      ],
      "execution_count": 0,
      "outputs": []
    },
    {
      "metadata": {
        "id": "tMWAeflQp7Zv",
        "colab_type": "code",
        "colab": {}
      },
      "cell_type": "code",
      "source": [
        "#Feature Scaling\n",
        "from sklearn.preprocessing import StandardScaler\n",
        "sc = StandardScaler()\n",
        "X_train = sc.fit_transform(X_train)\n",
        "X_test = sc.transform(X_test)"
      ],
      "execution_count": 0,
      "outputs": []
    },
    {
      "metadata": {
        "id": "iGweoV58p7in",
        "colab_type": "code",
        "colab": {}
      },
      "cell_type": "code",
      "source": [
        "#initialising model\n",
        "classifier = Sequential()"
      ],
      "execution_count": 0,
      "outputs": []
    },
    {
      "metadata": {
        "id": "qe-h5gbvvJVv",
        "colab_type": "code",
        "colab": {}
      },
      "cell_type": "code",
      "source": [
        "#adding input and first hidden layer\n",
        "classifier.add(Dense(units = 6, kernel_initializer = 'uniform', activation = 'relu', input_dim = 11 ))"
      ],
      "execution_count": 0,
      "outputs": []
    },
    {
      "metadata": {
        "id": "Kc8UaukkvJai",
        "colab_type": "code",
        "colab": {}
      },
      "cell_type": "code",
      "source": [
        "#adding second hidden layer\n",
        "classifier.add(Dense(units = 6, kernel_initializer = 'uniform', activation = 'relu')) "
      ],
      "execution_count": 0,
      "outputs": []
    },
    {
      "metadata": {
        "id": "FmpjXULGvJY_",
        "colab_type": "code",
        "colab": {}
      },
      "cell_type": "code",
      "source": [
        "#adding the output layer\n",
        "classifier.add(Dense(units = 1, kernel_initializer = 'uniform', activation = 'sigmoid')) "
      ],
      "execution_count": 0,
      "outputs": []
    },
    {
      "metadata": {
        "id": "6bjs8JXAzHDG",
        "colab_type": "code",
        "colab": {}
      },
      "cell_type": "code",
      "source": [
        "#compiling the data\n",
        "classifier.compile(optimizer = 'adam', loss = 'binary_crossentropy', metrics = ['accuracy'])"
      ],
      "execution_count": 0,
      "outputs": []
    },
    {
      "metadata": {
        "id": "85SWw9GHzHGx",
        "colab_type": "code",
        "colab": {
          "base_uri": "https://localhost:8080/",
          "height": 3468
        },
        "outputId": "d4af559c-8e08-4b1b-8bd9-8f4fd17e9ad4"
      },
      "cell_type": "code",
      "source": [
        "#fitting the model (choosing the number of epochs)\n",
        "classifier.fit(X_train, y_train, batch_size = 10, nb_epoch = 100)"
      ],
      "execution_count": 70,
      "outputs": [
        {
          "output_type": "stream",
          "text": [
            "/usr/local/lib/python3.6/dist-packages/ipykernel_launcher.py:1: UserWarning: The `nb_epoch` argument in `fit` has been renamed `epochs`.\n",
            "  \"\"\"Entry point for launching an IPython kernel.\n"
          ],
          "name": "stderr"
        },
        {
          "output_type": "stream",
          "text": [
            "Epoch 1/100\n",
            "8000/8000 [==============================] - 5s 592us/step - loss: 0.4815 - acc: 0.7956\n",
            "Epoch 2/100\n",
            "8000/8000 [==============================] - 4s 556us/step - loss: 0.4271 - acc: 0.7960\n",
            "Epoch 3/100\n",
            "8000/8000 [==============================] - 4s 558us/step - loss: 0.4219 - acc: 0.7997\n",
            "Epoch 4/100\n",
            "8000/8000 [==============================] - 4s 555us/step - loss: 0.4175 - acc: 0.8242\n",
            "Epoch 5/100\n",
            "8000/8000 [==============================] - 4s 556us/step - loss: 0.4156 - acc: 0.8280\n",
            "Epoch 6/100\n",
            "8000/8000 [==============================] - 4s 560us/step - loss: 0.4133 - acc: 0.8307\n",
            "Epoch 7/100\n",
            "8000/8000 [==============================] - 4s 558us/step - loss: 0.4126 - acc: 0.8312\n",
            "Epoch 8/100\n",
            "8000/8000 [==============================] - 4s 560us/step - loss: 0.4112 - acc: 0.8326\n",
            "Epoch 9/100\n",
            "8000/8000 [==============================] - 4s 561us/step - loss: 0.4107 - acc: 0.8345\n",
            "Epoch 10/100\n",
            "8000/8000 [==============================] - 4s 557us/step - loss: 0.4089 - acc: 0.8337\n",
            "Epoch 11/100\n",
            "8000/8000 [==============================] - 4s 560us/step - loss: 0.4086 - acc: 0.8346\n",
            "Epoch 12/100\n",
            "8000/8000 [==============================] - 5s 563us/step - loss: 0.4078 - acc: 0.8346\n",
            "Epoch 13/100\n",
            "8000/8000 [==============================] - 5s 570us/step - loss: 0.4072 - acc: 0.8355\n",
            "Epoch 14/100\n",
            "8000/8000 [==============================] - 4s 553us/step - loss: 0.4069 - acc: 0.8337\n",
            "Epoch 15/100\n",
            "8000/8000 [==============================] - 4s 554us/step - loss: 0.4059 - acc: 0.8350\n",
            "Epoch 16/100\n",
            "8000/8000 [==============================] - 4s 560us/step - loss: 0.4059 - acc: 0.8339\n",
            "Epoch 17/100\n",
            "8000/8000 [==============================] - 4s 562us/step - loss: 0.4053 - acc: 0.8341\n",
            "Epoch 18/100\n",
            "8000/8000 [==============================] - 4s 562us/step - loss: 0.4055 - acc: 0.8350\n",
            "Epoch 19/100\n",
            "8000/8000 [==============================] - 4s 553us/step - loss: 0.4047 - acc: 0.8351\n",
            "Epoch 20/100\n",
            "8000/8000 [==============================] - 4s 552us/step - loss: 0.4044 - acc: 0.8344\n",
            "Epoch 21/100\n",
            "8000/8000 [==============================] - 4s 559us/step - loss: 0.4048 - acc: 0.8349\n",
            "Epoch 22/100\n",
            "8000/8000 [==============================] - 4s 553us/step - loss: 0.4043 - acc: 0.8337\n",
            "Epoch 23/100\n",
            "8000/8000 [==============================] - 4s 555us/step - loss: 0.4038 - acc: 0.8346\n",
            "Epoch 24/100\n",
            "8000/8000 [==============================] - 4s 561us/step - loss: 0.4037 - acc: 0.8342\n",
            "Epoch 25/100\n",
            "8000/8000 [==============================] - 4s 562us/step - loss: 0.4036 - acc: 0.8344\n",
            "Epoch 26/100\n",
            "8000/8000 [==============================] - 5s 566us/step - loss: 0.4034 - acc: 0.8331\n",
            "Epoch 27/100\n",
            "8000/8000 [==============================] - 5s 564us/step - loss: 0.4034 - acc: 0.8339\n",
            "Epoch 28/100\n",
            "8000/8000 [==============================] - 4s 556us/step - loss: 0.4033 - acc: 0.8344\n",
            "Epoch 29/100\n",
            "8000/8000 [==============================] - 4s 556us/step - loss: 0.4034 - acc: 0.8352\n",
            "Epoch 30/100\n",
            "8000/8000 [==============================] - 4s 560us/step - loss: 0.4032 - acc: 0.8351\n",
            "Epoch 31/100\n",
            "8000/8000 [==============================] - 4s 559us/step - loss: 0.4034 - acc: 0.8354\n",
            "Epoch 32/100\n",
            "8000/8000 [==============================] - 5s 563us/step - loss: 0.4031 - acc: 0.8346\n",
            "Epoch 33/100\n",
            "8000/8000 [==============================] - 4s 557us/step - loss: 0.4030 - acc: 0.8354\n",
            "Epoch 34/100\n",
            "8000/8000 [==============================] - 5s 564us/step - loss: 0.4026 - acc: 0.8350\n",
            "Epoch 35/100\n",
            "8000/8000 [==============================] - 4s 562us/step - loss: 0.4021 - acc: 0.8347\n",
            "Epoch 36/100\n",
            "8000/8000 [==============================] - 5s 563us/step - loss: 0.4028 - acc: 0.8339\n",
            "Epoch 37/100\n",
            "8000/8000 [==============================] - 4s 559us/step - loss: 0.4028 - acc: 0.8347\n",
            "Epoch 38/100\n",
            "8000/8000 [==============================] - 4s 562us/step - loss: 0.4023 - acc: 0.8359\n",
            "Epoch 39/100\n",
            "8000/8000 [==============================] - 4s 559us/step - loss: 0.4027 - acc: 0.8351\n",
            "Epoch 40/100\n",
            "8000/8000 [==============================] - 4s 558us/step - loss: 0.4027 - acc: 0.8350\n",
            "Epoch 41/100\n",
            "8000/8000 [==============================] - 4s 558us/step - loss: 0.4025 - acc: 0.8352\n",
            "Epoch 42/100\n",
            "8000/8000 [==============================] - 4s 561us/step - loss: 0.4027 - acc: 0.8350\n",
            "Epoch 43/100\n",
            "8000/8000 [==============================] - 4s 558us/step - loss: 0.4023 - acc: 0.8346\n",
            "Epoch 44/100\n",
            "8000/8000 [==============================] - 4s 558us/step - loss: 0.4026 - acc: 0.8342\n",
            "Epoch 45/100\n",
            "8000/8000 [==============================] - 4s 559us/step - loss: 0.4022 - acc: 0.8339\n",
            "Epoch 46/100\n",
            "8000/8000 [==============================] - 5s 563us/step - loss: 0.4023 - acc: 0.8349\n",
            "Epoch 47/100\n",
            "8000/8000 [==============================] - 4s 561us/step - loss: 0.4025 - acc: 0.8345\n",
            "Epoch 48/100\n",
            "8000/8000 [==============================] - 4s 557us/step - loss: 0.4024 - acc: 0.8350\n",
            "Epoch 49/100\n",
            "8000/8000 [==============================] - 4s 555us/step - loss: 0.4018 - acc: 0.8345\n",
            "Epoch 50/100\n",
            "8000/8000 [==============================] - 4s 558us/step - loss: 0.4025 - acc: 0.8325\n",
            "Epoch 51/100\n",
            "8000/8000 [==============================] - 4s 559us/step - loss: 0.4024 - acc: 0.8351\n",
            "Epoch 52/100\n",
            "8000/8000 [==============================] - 4s 562us/step - loss: 0.4020 - acc: 0.8355\n",
            "Epoch 53/100\n",
            "8000/8000 [==============================] - 4s 559us/step - loss: 0.4024 - acc: 0.8356\n",
            "Epoch 54/100\n",
            "8000/8000 [==============================] - 4s 559us/step - loss: 0.4021 - acc: 0.8352\n",
            "Epoch 55/100\n",
            "8000/8000 [==============================] - 4s 562us/step - loss: 0.4020 - acc: 0.8340\n",
            "Epoch 56/100\n",
            "8000/8000 [==============================] - 4s 562us/step - loss: 0.4023 - acc: 0.8339\n",
            "Epoch 57/100\n",
            "8000/8000 [==============================] - 5s 563us/step - loss: 0.4021 - acc: 0.8360\n",
            "Epoch 58/100\n",
            "8000/8000 [==============================] - 4s 561us/step - loss: 0.4020 - acc: 0.8352\n",
            "Epoch 59/100\n",
            "8000/8000 [==============================] - 4s 561us/step - loss: 0.4018 - acc: 0.8352\n",
            "Epoch 60/100\n",
            "8000/8000 [==============================] - 4s 562us/step - loss: 0.4019 - acc: 0.8354\n",
            "Epoch 61/100\n",
            "8000/8000 [==============================] - 4s 561us/step - loss: 0.4020 - acc: 0.8339\n",
            "Epoch 62/100\n",
            "8000/8000 [==============================] - 4s 562us/step - loss: 0.4015 - acc: 0.8342\n",
            "Epoch 63/100\n",
            "8000/8000 [==============================] - 4s 561us/step - loss: 0.4017 - acc: 0.8346\n",
            "Epoch 64/100\n",
            "8000/8000 [==============================] - 4s 558us/step - loss: 0.4019 - acc: 0.8349\n",
            "Epoch 65/100\n",
            "8000/8000 [==============================] - 4s 561us/step - loss: 0.4007 - acc: 0.8346\n",
            "Epoch 66/100\n",
            "8000/8000 [==============================] - 5s 563us/step - loss: 0.4019 - acc: 0.8346\n",
            "Epoch 67/100\n",
            "8000/8000 [==============================] - 4s 562us/step - loss: 0.4016 - acc: 0.8350\n",
            "Epoch 68/100\n",
            "8000/8000 [==============================] - 4s 561us/step - loss: 0.4014 - acc: 0.8347\n",
            "Epoch 69/100\n",
            "8000/8000 [==============================] - 4s 562us/step - loss: 0.4014 - acc: 0.8339\n",
            "Epoch 70/100\n",
            "8000/8000 [==============================] - 4s 562us/step - loss: 0.4014 - acc: 0.8349\n",
            "Epoch 71/100\n",
            "8000/8000 [==============================] - 5s 563us/step - loss: 0.4012 - acc: 0.8352\n",
            "Epoch 72/100\n",
            "8000/8000 [==============================] - 4s 561us/step - loss: 0.4012 - acc: 0.8351\n",
            "Epoch 73/100\n",
            "8000/8000 [==============================] - 4s 559us/step - loss: 0.4010 - acc: 0.8340\n",
            "Epoch 74/100\n",
            "8000/8000 [==============================] - 4s 562us/step - loss: 0.4009 - acc: 0.8336\n",
            "Epoch 75/100\n",
            "8000/8000 [==============================] - 5s 564us/step - loss: 0.4013 - acc: 0.8337\n",
            "Epoch 76/100\n",
            "8000/8000 [==============================] - 5s 563us/step - loss: 0.4014 - acc: 0.8340\n",
            "Epoch 77/100\n",
            "8000/8000 [==============================] - 4s 559us/step - loss: 0.4013 - acc: 0.8344\n",
            "Epoch 78/100\n",
            "8000/8000 [==============================] - 4s 560us/step - loss: 0.4008 - acc: 0.8355\n",
            "Epoch 79/100\n",
            "8000/8000 [==============================] - 5s 567us/step - loss: 0.4010 - acc: 0.8335\n",
            "Epoch 80/100\n",
            "8000/8000 [==============================] - 4s 560us/step - loss: 0.4010 - acc: 0.8345\n",
            "Epoch 81/100\n",
            "8000/8000 [==============================] - 4s 560us/step - loss: 0.4008 - acc: 0.8351\n",
            "Epoch 82/100\n",
            "8000/8000 [==============================] - 4s 560us/step - loss: 0.4005 - acc: 0.8332\n",
            "Epoch 83/100\n",
            "8000/8000 [==============================] - 5s 564us/step - loss: 0.4004 - acc: 0.8339\n",
            "Epoch 84/100\n",
            "8000/8000 [==============================] - 4s 557us/step - loss: 0.4011 - acc: 0.8345\n",
            "Epoch 85/100\n",
            "8000/8000 [==============================] - 4s 561us/step - loss: 0.4004 - acc: 0.8351\n",
            "Epoch 86/100\n",
            "8000/8000 [==============================] - 5s 564us/step - loss: 0.4006 - acc: 0.8342\n",
            "Epoch 87/100\n",
            "8000/8000 [==============================] - 4s 562us/step - loss: 0.4010 - acc: 0.8337\n",
            "Epoch 88/100\n",
            "8000/8000 [==============================] - 4s 558us/step - loss: 0.4010 - acc: 0.8334\n",
            "Epoch 89/100\n",
            "8000/8000 [==============================] - 4s 560us/step - loss: 0.4006 - acc: 0.8347\n",
            "Epoch 90/100\n",
            "8000/8000 [==============================] - 4s 562us/step - loss: 0.4008 - acc: 0.8345\n",
            "Epoch 91/100\n",
            "8000/8000 [==============================] - 4s 557us/step - loss: 0.4005 - acc: 0.8344\n",
            "Epoch 92/100\n",
            "8000/8000 [==============================] - 4s 559us/step - loss: 0.4007 - acc: 0.8344\n",
            "Epoch 93/100\n",
            "8000/8000 [==============================] - 4s 561us/step - loss: 0.4008 - acc: 0.8352\n",
            "Epoch 94/100\n",
            "8000/8000 [==============================] - 4s 557us/step - loss: 0.4005 - acc: 0.8344\n",
            "Epoch 95/100\n",
            "8000/8000 [==============================] - 4s 561us/step - loss: 0.4008 - acc: 0.8352\n",
            "Epoch 96/100\n",
            "8000/8000 [==============================] - 5s 565us/step - loss: 0.4003 - acc: 0.8360\n",
            "Epoch 97/100\n",
            "8000/8000 [==============================] - 4s 558us/step - loss: 0.4005 - acc: 0.8345\n",
            "Epoch 98/100\n",
            "8000/8000 [==============================] - 4s 557us/step - loss: 0.4009 - acc: 0.8339\n",
            "Epoch 99/100\n",
            "8000/8000 [==============================] - 5s 568us/step - loss: 0.4009 - acc: 0.8350\n",
            "Epoch 100/100\n",
            "8000/8000 [==============================] - 4s 560us/step - loss: 0.4007 - acc: 0.8352\n"
          ],
          "name": "stdout"
        },
        {
          "output_type": "execute_result",
          "data": {
            "text/plain": [
              "<keras.callbacks.History at 0x7f837ecdfcc0>"
            ]
          },
          "metadata": {
            "tags": []
          },
          "execution_count": 70
        }
      ]
    },
    {
      "metadata": {
        "id": "ZGmCBeRizHBX",
        "colab_type": "code",
        "colab": {
          "base_uri": "https://localhost:8080/",
          "height": 136
        },
        "outputId": "e4a80704-eb3f-4045-e1ef-3c36b9e18d67"
      },
      "cell_type": "code",
      "source": [
        "#making predictions (choosing the threshold value)\n",
        "y_pred = classifier.predict(X_test)\n",
        "y_pred = (y_pred > 0.5)\n",
        "print(y_pred)"
      ],
      "execution_count": 83,
      "outputs": [
        {
          "output_type": "stream",
          "text": [
            "[[False]\n",
            " [False]\n",
            " [False]\n",
            " ...\n",
            " [False]\n",
            " [False]\n",
            " [False]]\n"
          ],
          "name": "stdout"
        }
      ]
    },
    {
      "metadata": {
        "id": "6bVpDQxrA6aZ",
        "colab_type": "code",
        "colab": {
          "base_uri": "https://localhost:8080/",
          "height": 34
        },
        "outputId": "54cb70f8-d0fb-4b8e-9cb2-2d747b178eb3"
      },
      "cell_type": "code",
      "source": [
        "#making single predictions\n",
        "new_prediction = classifier.predict(sc.transform(np.array([[0.0,0,600,1,40,3,60000,2,1,1,50000]])))\n",
        "new_prediction = (new_prediction > 0.5)\n",
        "print(new_prediction)"
      ],
      "execution_count": 91,
      "outputs": [
        {
          "output_type": "stream",
          "text": [
            "[[False]]\n"
          ],
          "name": "stdout"
        }
      ]
    },
    {
      "metadata": {
        "id": "nogsB4-kzG_U",
        "colab_type": "code",
        "colab": {
          "base_uri": "https://localhost:8080/",
          "height": 51
        },
        "outputId": "071a5e12-2cad-472a-ac02-2a31355e3fc6"
      },
      "cell_type": "code",
      "source": [
        "#confusion matrix\n",
        "from sklearn.metrics import confusion_matrix\n",
        "cm = confusion_matrix(y_test, y_pred)\n",
        "print(cm)"
      ],
      "execution_count": 94,
      "outputs": [
        {
          "output_type": "stream",
          "text": [
            "[[1544   51]\n",
            " [ 259  146]]\n"
          ],
          "name": "stdout"
        }
      ]
    },
    {
      "metadata": {
        "id": "klJ2-Roap7f3",
        "colab_type": "code",
        "colab": {
          "base_uri": "https://localhost:8080/",
          "height": 34
        },
        "outputId": "7230f7dc-f3e4-42ca-9bcf-279a7dac9bde"
      },
      "cell_type": "code",
      "source": [
        "#accuracy (number of correction predictions / total number of predictions)\n",
        "(1544 + 146)/2000"
      ],
      "execution_count": 93,
      "outputs": [
        {
          "output_type": "execute_result",
          "data": {
            "text/plain": [
              "0.845"
            ]
          },
          "metadata": {
            "tags": []
          },
          "execution_count": 93
        }
      ]
    }
  ]
}